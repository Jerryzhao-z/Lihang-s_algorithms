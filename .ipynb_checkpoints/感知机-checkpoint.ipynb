{
 "cells": [
  {
   "cell_type": "markdown",
   "metadata": {},
   "source": [
    "定义：\n",
    "    \n",
    "    输入空间R^n\n",
    "    输出空间{+1, -1}\n",
    "    y = sign(wx+b)\n",
    "    \n",
    "直观定义:\n",
    "    \n",
    "    找到输入空间中的可以分离两类数据的超平面 hyperplane"
   ]
  },
  {
   "cell_type": "markdown",
   "metadata": {},
   "source": [
    "应用感知机的前提：数据集线性可分 "
   ]
  },
  {
   "cell_type": "markdown",
   "metadata": {},
   "source": [
    "学习策略: 最小化损失函数\n",
    "    \n",
    "    L(w,b) = - sum(y_i(w*x_i+b))\n",
    "    \n",
    "    -> 最优化问题 -> SGD"
   ]
  },
  {
   "cell_type": "markdown",
   "metadata": {},
   "source": [
    "## 学习算法"
   ]
  },
  {
   "cell_type": "markdown",
   "metadata": {},
   "source": [
    "原始形式：\n",
    "\n",
    "    min L(w,b) = - sum(y_i(w*x_i+b))\n",
    "    -> SGD\n",
    "    -> gradiants : Grad(L(w,b), w) = - sum(y_i*x_i)\n",
    "                   Grad(L(w,b), b) = - sum(y_i)\n",
    "    -> SGD : for a random data point (x_i, y_i)\n",
    "            w <- w + learning_rate*y_i*x_i\n",
    "            b <- b + learning_rate*y_i"
   ]
  },
  {
   "cell_type": "code",
   "execution_count": 47,
   "metadata": {
    "collapsed": false
   },
   "outputs": [],
   "source": [
    "from random import randint\n",
    "import numpy as np\n",
    "\n",
    "def basic_perceptron(X, Y, learning_rate):\n",
    "    # check data \n",
    "    X_shape = X.shape\n",
    "    Y_shape = Y.shape\n",
    "    \n",
    "    if X_shape[0] != Y_shape[0] or len(Y_shape) > 1:\n",
    "        print (\"input data X and Y didn't match requirement of Perceptron\")\n",
    "        return\n",
    "        \n",
    "    # initialization\n",
    "    w = np.zeros(X_shape[1])\n",
    "    b = 0.0\n",
    "    \n",
    "    def check(X, Y, w, b):\n",
    "        for i in range(X.shape[0]):\n",
    "            if Y[i]*(np.dot(w, X[i])+b) <= 0:\n",
    "                return False\n",
    "        return True\n",
    "    \n",
    "    if check(X=X, Y=Y, w=w, b=b):\n",
    "        return (w, b)\n",
    "    \n",
    "    while (True):\n",
    "        index = randint(0, X_shape[0]-1)\n",
    "        Xi = X[index]\n",
    "        Yi = Y[index]\n",
    "        \n",
    "        if Yi*(np.dot(w, Xi)+b) <= 0:\n",
    "            w += learning_rate * Yi * Xi\n",
    "            b += learning_rate * Yi\n",
    "            \n",
    "            if check(X=X, Y=Y, w=w, b=b):\n",
    "                break\n",
    "        \n",
    "    return (w,b)"
   ]
  },
  {
   "cell_type": "code",
   "execution_count": 33,
   "metadata": {
    "collapsed": false
   },
   "outputs": [],
   "source": [
    "x = np.array([[5,7],[4,10],[-1, -2], [-4, 2]])\n",
    "y = np.array([1,1,-1, -1])"
   ]
  },
  {
   "cell_type": "code",
   "execution_count": 48,
   "metadata": {
    "collapsed": false
   },
   "outputs": [],
   "source": [
    "(w, b) = basic_perceptron(x, y, 0.1)"
   ]
  },
  {
   "cell_type": "code",
   "execution_count": 73,
   "metadata": {
    "collapsed": false
   },
   "outputs": [
    {
     "data": {
      "image/png": "[encoded data removed]",
      "text/plain": [
       "<matplotlib.figure.Figure at 0x20bdfec5588>"
      ]
     },
     "metadata": {},
     "output_type": "display_data"
    }
   ],
   "source": [
    "from pylab import norm, plot, show\n",
    "for i in range(len(x)):\n",
    "    if y[i] > 0:\n",
    "        plot(x[i,0], x[i,1], 'ro')\n",
    "    else:\n",
    "        plot(x[i,0], x[i,1], 'bo')\n",
    "#plot.axis([-8, 8, -5, 15])\n",
    "\n",
    "# plot of the separation line.\n",
    "# The separation line is orthogonal to w\n",
    "n = norm(w)\n",
    "ww = w/n\n",
    "ww1 = [ww[1],-ww[0]]\n",
    "ww2 = [-ww[1],ww[0]]\n",
    "plot([10*ww1[0], 10*ww2[0]],[10*ww1[1]+b, 10*ww2[1]+b],'--k')\n",
    "\n",
    "show()"
   ]
  },
  {
   "cell_type": "markdown",
   "metadata": {},
   "source": [
    "## 对偶dual形式"
   ]
  },
  {
   "cell_type": "markdown",
   "metadata": {},
   "source": [
    "思路：\n",
    "\n",
    "    由感知机基本形式可推测：\n",
    "\n",
    "    w = sum(alpha_i*y_i*x_i) \n",
    "    b = sum(alpha_i*y_i) \n",
    "    alpha_i = n_i*learning_rate\n",
    "    n_i : update times of the data point i"
   ]
  },
  {
   "cell_type": "markdown",
   "metadata": {},
   "source": [
    "输入：X，Y，learning_rate\n",
    "\n",
    "输出：alpha, b\n",
    "\n",
    "f(x) = sign(sum( alpha_j \\* y_j \\* xj \\* x )+b)\n",
    "\n",
    "由于内积形式的存在，我们可以直接用Grammian Matrix计算，配合kernel可以处理非线性"
   ]
  },
  {
   "cell_type": "code",
   "execution_count": null,
   "metadata": {
    "collapsed": true
   },
   "outputs": [],
   "source": [
    "def dual_perceptron(X, Y, learning_rate, kernel=None):\n",
    "    \n",
    "    # check data \n",
    "    X_shape = X.shape\n",
    "    Y_shape = Y.shape\n",
    "    \n",
    "    if X_shape[0] != Y_shape[0] or len(Y_shape) > 1:\n",
    "        print (\"input data X and Y didn't match requirement of Perceptron\")\n",
    "        return\n",
    "    \n",
    "    # initialization\n",
    "    alpha = np.zeros(X_shape[0])\n",
    "    b = 0.0\n",
    "    \n",
    "    # Grammian\n",
    "    if kernel == None:\n",
    "        Gram = np.matmul(x, np.transpose(x))\n",
    "    \n",
    "    # check\n",
    "    def check(X, Y, w, b):\n",
    "        for i in range(X.shape[0]):\n",
    "            if Y[i]*(np.dot(alpha, Y*Gram[i])+b) <= 0:\n",
    "                return False\n",
    "        return True\n",
    "    \n",
    "    if check(X=X, Y=Y, w=w, b=b):\n",
    "        return (alpha, b)\n",
    "    \n",
    "    while (True):\n",
    "        index = randint(0, X_shape[0]-1)\n",
    "        Yi = Y[index]\n",
    "        \n",
    "        if Yi*(np.dot(alpha, Y*Gram[index])+b) <= 0:\n",
    "            alpha[i] += learning_rate\n",
    "            b += learning_rate * Yi\n",
    "            \n",
    "            if check(X=X, Y=Y, w=w, b=b):\n",
    "                break\n",
    "        \n",
    "    return (alpha,b)"
   ]
  }
 ],
 "metadata": {
  "kernelspec": {
   "display_name": "Python 3",
   "language": "python",
   "name": "python3"
  },
  "language_info": {
   "codemirror_mode": {
    "name": "ipython",
    "version": 3
   },
   "file_extension": ".py",
   "mimetype": "text/x-python",
   "name": "python",
   "nbconvert_exporter": "python",
   "pygments_lexer": "ipython3",
   "version": "3.5.0"
  }
 },
 "nbformat": 4,
 "nbformat_minor": 2
}
