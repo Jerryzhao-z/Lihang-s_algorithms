{
 "cells": [
  {
   "cell_type": "markdown",
   "metadata": {
    "deletable": true,
    "editable": true
   },
   "source": [
    "## 基本方法"
   ]
  },
  {
   "cell_type": "markdown",
   "metadata": {
    "deletable": true,
    "editable": true
   },
   "source": [
    "训练数据集：\n",
    "\n",
    "    X : feature vectors\n",
    "    Y : labels\n",
    "    \n",
    "基本思想 maximum posterior:\n",
    "\n",
    "    P(y=c_k | X=x) = (P(X=x|Y=c_k)P(Y=c_k))/(sum(P(X=x|Y=c_k)P(Y=c_k)))"
   ]
  },
  {
   "cell_type": "markdown",
   "metadata": {
    "deletable": true,
    "editable": true
   },
   "source": [
    "y = f(x) = argmax P(y=c_k | X=x)"
   ]
  },
  {
   "cell_type": "markdown",
   "metadata": {
    "deletable": true,
    "editable": true
   },
   "source": [
    "#### strong assumption\n",
    "\n",
    "条件独立性假设：\n",
    "    \n",
    "    P(X=x|Y=c_k) = P(X_1 = x_1, X_2 = x_2, .... | Y=c_k)\n",
    " \n",
    "        = P(X_1 = x_1 | Y=c_k) * P(X_2 = x_2 | Y=c_k) * ..."
   ]
  },
  {
   "cell_type": "markdown",
   "metadata": {
    "deletable": true,
    "editable": true
   },
   "source": [
    "后验概率最大化： 风险期望最小化 R(f) = E[L(Y, f(X))]"
   ]
  },
  {
   "cell_type": "markdown",
   "metadata": {
    "deletable": true,
    "editable": true
   },
   "source": [
    "## 参数估计\n",
    "\n",
    "方法：最大近似然估计\n",
    "\n",
    "    P(Y=c_k) = sum( I(y_i = c_k) )/N\n",
    "    P(X_n = x_n | Y=c_k) = (sum(I(y_i(n) = x_n, y_i = c_k)))/(sum(I(y_i = c_k)))  第n个特征为x_n,分类为c_k; i为数据序号\n",
    "    "
   ]
  },
  {
   "cell_type": "code",
   "execution_count": 1,
   "metadata": {
    "collapsed": true,
    "deletable": true,
    "editable": true
   },
   "outputs": [],
   "source": [
    "import numpy as np\n",
    "class naive_bayes:\n",
    "    \n",
    "    def __init__(self, X, Y, laplace_smoothing=1):\n",
    "        self.X = X\n",
    "        self.Y = Y\n",
    "        self.laplace_smoothing = laplace_smoothing\n",
    "        \n",
    "        X_shape = X.shape\n",
    "        \n",
    "        # prior prob\n",
    "        self.classes, counts = np.unique(Y, return_counts=True)\n",
    "        self.prior = dict()\n",
    "        self.cond_prob = dict()\n",
    "        occurrence = dict(zip(self.classes, counts))\n",
    "        for i in self.classes:\n",
    "            self.prior[i] = self.__estimate_prior(i, occurrence, X_shape[0])\n",
    "            \n",
    "            # X instances of class Y = i\n",
    "            index_class = np.where(Y == i)\n",
    "            X_subclass = X[index_class]\n",
    "            \n",
    "            # cond prob\n",
    "            self.cond_prob[i] = self.__estimate_conditional_prob(X_subclass)\n",
    "        \n",
    "        print (self.cond_prob)\n",
    "        print (self.prior)\n",
    "        \n",
    "    def __estimate_prior(self, C, number_occurrence, total_instance):\n",
    "        return (number_occurrence[C]+laplace_smoothing)/(total_instance+len(C)*laplace_smoothing)\n",
    "        \n",
    "    def __estimate_conditional_prob(self, X):\n",
    "        cond_prob = dict()\n",
    "        X_shape = X.shape\n",
    "        for n in range(X_shape[1]):\n",
    "            cond_prob[n] = dict()\n",
    "            # i eme features of X\n",
    "            features, counts = np.unique(X[:, n], return_counts=True)\n",
    "            occurrence = dict(zip(features, counts))\n",
    "            \n",
    "            for k in features:\n",
    "                cond_prob[n][k] = (occurrence[k]+laplace_smoothing)/(X_shape[0]+len(k)*laplace_smoothing) \n",
    "        \n",
    "        return cond_prob\n",
    "    \n",
    "    def inference(self, x):\n",
    "        prob = dict()\n",
    "        for i in self.classes:\n",
    "            prob[i] = self.__estimate(x, i)\n",
    "            \n",
    "        return self.__argmax(prob)\n",
    "    \n",
    "    def __estimate(self, x, c):\n",
    "        prob = self.prior[c]\n",
    "        for i in range(x.shape[0]):\n",
    "            prob *= self.cond_prob[c][i][x[i]]\n",
    "        return prob\n",
    "    \n",
    "    def __argmax(self, prob):\n",
    "        c = None\n",
    "        for i in prob.keys():\n",
    "            c_new = prob[i]\n",
    "            if c == None or c_new > c:\n",
    "                c = c_new\n",
    "                max_item = i\n",
    "                \n",
    "        return max_item, c"
   ]
  },
  {
   "cell_type": "code",
   "execution_count": 3,
   "metadata": {
    "collapsed": false,
    "deletable": true,
    "editable": true
   },
   "outputs": [
    {
     "ename": "NameError",
     "evalue": "name 'laplace_smoothing' is not defined",
     "output_type": "error",
     "traceback": [
      "\u001b[0;31m---------------------------------------------------------------------------\u001b[0m",
      "\u001b[0;31mNameError\u001b[0m                                 Traceback (most recent call last)",
      "\u001b[0;32m<ipython-input-3-268c5061b9d9>\u001b[0m in \u001b[0;36m<module>\u001b[0;34m()\u001b[0m\n\u001b[1;32m      3\u001b[0m \u001b[0mY\u001b[0m \u001b[1;33m=\u001b[0m \u001b[0mnp\u001b[0m\u001b[1;33m.\u001b[0m\u001b[0marray\u001b[0m\u001b[1;33m(\u001b[0m\u001b[1;33m[\u001b[0m\u001b[1;33m-\u001b[0m\u001b[1;36m1\u001b[0m\u001b[1;33m,\u001b[0m \u001b[1;33m-\u001b[0m\u001b[1;36m1\u001b[0m\u001b[1;33m,\u001b[0m \u001b[1;36m1\u001b[0m\u001b[1;33m,\u001b[0m \u001b[1;36m1\u001b[0m\u001b[1;33m,\u001b[0m \u001b[1;33m-\u001b[0m\u001b[1;36m1\u001b[0m\u001b[1;33m,\u001b[0m \u001b[1;33m-\u001b[0m\u001b[1;36m1\u001b[0m\u001b[1;33m,\u001b[0m \u001b[1;33m-\u001b[0m\u001b[1;36m1\u001b[0m\u001b[1;33m,\u001b[0m \u001b[1;36m1\u001b[0m\u001b[1;33m,\u001b[0m \u001b[1;36m1\u001b[0m\u001b[1;33m,\u001b[0m \u001b[1;36m1\u001b[0m\u001b[1;33m,\u001b[0m \u001b[1;36m1\u001b[0m\u001b[1;33m,\u001b[0m \u001b[1;36m1\u001b[0m\u001b[1;33m,\u001b[0m \u001b[1;36m1\u001b[0m\u001b[1;33m,\u001b[0m \u001b[1;36m1\u001b[0m\u001b[1;33m,\u001b[0m \u001b[1;33m-\u001b[0m\u001b[1;36m1\u001b[0m\u001b[1;33m]\u001b[0m\u001b[1;33m)\u001b[0m\u001b[1;33m\u001b[0m\u001b[0m\n\u001b[1;32m      4\u001b[0m \u001b[1;33m\u001b[0m\u001b[0m\n\u001b[0;32m----> 5\u001b[0;31m \u001b[0mclassifier\u001b[0m \u001b[1;33m=\u001b[0m \u001b[0mnaive_bayes\u001b[0m\u001b[1;33m(\u001b[0m\u001b[0mX\u001b[0m\u001b[1;33m,\u001b[0m \u001b[0mY\u001b[0m\u001b[1;33m)\u001b[0m\u001b[1;33m\u001b[0m\u001b[0m\n\u001b[0m",
      "\u001b[0;32m<ipython-input-1-1b34d1d6e630>\u001b[0m in \u001b[0;36m__init__\u001b[0;34m(self, X, Y, laplace_smoothing)\u001b[0m\n\u001b[1;32m     14\u001b[0m         \u001b[0moccurrence\u001b[0m \u001b[1;33m=\u001b[0m \u001b[0mdict\u001b[0m\u001b[1;33m(\u001b[0m\u001b[0mzip\u001b[0m\u001b[1;33m(\u001b[0m\u001b[0mself\u001b[0m\u001b[1;33m.\u001b[0m\u001b[0mclasses\u001b[0m\u001b[1;33m,\u001b[0m \u001b[0mcounts\u001b[0m\u001b[1;33m)\u001b[0m\u001b[1;33m)\u001b[0m\u001b[1;33m\u001b[0m\u001b[0m\n\u001b[1;32m     15\u001b[0m         \u001b[1;32mfor\u001b[0m \u001b[0mi\u001b[0m \u001b[1;32min\u001b[0m \u001b[0mself\u001b[0m\u001b[1;33m.\u001b[0m\u001b[0mclasses\u001b[0m\u001b[1;33m:\u001b[0m\u001b[1;33m\u001b[0m\u001b[0m\n\u001b[0;32m---> 16\u001b[0;31m             \u001b[0mself\u001b[0m\u001b[1;33m.\u001b[0m\u001b[0mprior\u001b[0m\u001b[1;33m[\u001b[0m\u001b[0mi\u001b[0m\u001b[1;33m]\u001b[0m \u001b[1;33m=\u001b[0m \u001b[0mself\u001b[0m\u001b[1;33m.\u001b[0m\u001b[0m__estimate_prior\u001b[0m\u001b[1;33m(\u001b[0m\u001b[0mi\u001b[0m\u001b[1;33m,\u001b[0m \u001b[0moccurrence\u001b[0m\u001b[1;33m,\u001b[0m \u001b[0mX_shape\u001b[0m\u001b[1;33m[\u001b[0m\u001b[1;36m0\u001b[0m\u001b[1;33m]\u001b[0m\u001b[1;33m)\u001b[0m\u001b[1;33m\u001b[0m\u001b[0m\n\u001b[0m\u001b[1;32m     17\u001b[0m \u001b[1;33m\u001b[0m\u001b[0m\n\u001b[1;32m     18\u001b[0m             \u001b[1;31m# X instances of class Y = i\u001b[0m\u001b[1;33m\u001b[0m\u001b[1;33m\u001b[0m\u001b[0m\n",
      "\u001b[0;32m<ipython-input-1-1b34d1d6e630>\u001b[0m in \u001b[0;36m__estimate_prior\u001b[0;34m(self, C, number_occurrence, total_instance)\u001b[0m\n\u001b[1;32m     27\u001b[0m \u001b[1;33m\u001b[0m\u001b[0m\n\u001b[1;32m     28\u001b[0m     \u001b[1;32mdef\u001b[0m \u001b[0m__estimate_prior\u001b[0m\u001b[1;33m(\u001b[0m\u001b[0mself\u001b[0m\u001b[1;33m,\u001b[0m \u001b[0mC\u001b[0m\u001b[1;33m,\u001b[0m \u001b[0mnumber_occurrence\u001b[0m\u001b[1;33m,\u001b[0m \u001b[0mtotal_instance\u001b[0m\u001b[1;33m)\u001b[0m\u001b[1;33m:\u001b[0m\u001b[1;33m\u001b[0m\u001b[0m\n\u001b[0;32m---> 29\u001b[0;31m         \u001b[1;32mreturn\u001b[0m \u001b[1;33m(\u001b[0m\u001b[0mnumber_occurrence\u001b[0m\u001b[1;33m[\u001b[0m\u001b[0mC\u001b[0m\u001b[1;33m]\u001b[0m\u001b[1;33m+\u001b[0m\u001b[0mlaplace_smoothing\u001b[0m\u001b[1;33m)\u001b[0m\u001b[1;33m/\u001b[0m\u001b[1;33m(\u001b[0m\u001b[0mtotal_instance\u001b[0m\u001b[1;33m+\u001b[0m\u001b[0mlen\u001b[0m\u001b[1;33m(\u001b[0m\u001b[0mC\u001b[0m\u001b[1;33m)\u001b[0m\u001b[1;33m*\u001b[0m\u001b[0mlaplace_smoothing\u001b[0m\u001b[1;33m)\u001b[0m\u001b[1;33m\u001b[0m\u001b[0m\n\u001b[0m\u001b[1;32m     30\u001b[0m \u001b[1;33m\u001b[0m\u001b[0m\n\u001b[1;32m     31\u001b[0m     \u001b[1;32mdef\u001b[0m \u001b[0m__estimate_conditional_prob\u001b[0m\u001b[1;33m(\u001b[0m\u001b[0mself\u001b[0m\u001b[1;33m,\u001b[0m \u001b[0mX\u001b[0m\u001b[1;33m)\u001b[0m\u001b[1;33m:\u001b[0m\u001b[1;33m\u001b[0m\u001b[0m\n",
      "\u001b[0;31mNameError\u001b[0m: name 'laplace_smoothing' is not defined"
     ]
    }
   ],
   "source": [
    "\n",
    "X = np.array([[1, \"S\"], [1, \"M\"], [1, \"M\"], [1, \"S\"], [1, \"S\"], [2, \"S\"], [2, \"M\"], [2, \"M\"], [2, \"L\"], [2, \"L\"], [3, \"L\"], [3, \"M\"], [3, \"M\"], [3, \"L\"], [3, \"L\"]])\n",
    "Y = np.array([-1, -1, 1, 1, -1, -1, -1, 1, 1, 1, 1, 1, 1, 1, -1])\n",
    "\n",
    "classifier = naive_bayes(X, Y)"
   ]
  },
  {
   "cell_type": "code",
   "execution_count": 23,
   "metadata": {
    "collapsed": false,
    "deletable": true,
    "editable": true
   },
   "outputs": [
    {
     "name": "stdout",
     "output_type": "stream",
     "text": [
      "(-1, 0.066666666666666666)\n"
     ]
    }
   ],
   "source": [
    "print (classifier.inference(np.array([2, \"S\"])))"
   ]
  },
  {
   "cell_type": "code",
   "execution_count": null,
   "metadata": {
    "collapsed": true,
    "deletable": true,
    "editable": true
   },
   "outputs": [],
   "source": []
  }
 ],
 "metadata": {
  "kernelspec": {
   "display_name": "Python 3",
   "language": "python",
   "name": "python3"
  },
  "language_info": {
   "codemirror_mode": {
    "name": "ipython",
    "version": 3
   },
   "file_extension": ".py",
   "mimetype": "text/x-python",
   "name": "python",
   "nbconvert_exporter": "python",
   "pygments_lexer": "ipython3",
   "version": "3.5.0"
  }
 },
 "nbformat": 4,
 "nbformat_minor": 2
}
