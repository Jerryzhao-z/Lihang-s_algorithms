{
 "cells": [
  {
   "cell_type": "markdown",
   "metadata": {
    "deletable": true,
    "editable": true
   },
   "source": [
    "## 基本方法"
   ]
  },
  {
   "cell_type": "markdown",
   "metadata": {
    "deletable": true,
    "editable": true
   },
   "source": [
    "训练数据集：\n",
    "\n",
    "    X : feature vectors\n",
    "    Y : labels\n",
    "    \n",
    "基本思想 maximum posterior:\n",
    "\n",
    "    P(y=c_k | X=x) = (P(X=x|Y=c_k)P(Y=c_k))/(sum(P(X=x|Y=c_k)P(Y=c_k)))"
   ]
  },
  {
   "cell_type": "markdown",
   "metadata": {
    "deletable": true,
    "editable": true
   },
   "source": [
    "y = f(x) = argmax P(y=c_k | X=x)"
   ]
  },
  {
   "cell_type": "markdown",
   "metadata": {
    "deletable": true,
    "editable": true
   },
   "source": [
    "#### strong assumption\n",
    "\n",
    "条件独立性假设：\n",
    "    \n",
    "    P(X=x|Y=c_k) = P(X_1 = x_1, X_2 = x_2, .... | Y=c_k)\n",
    " \n",
    "        = P(X_1 = x_1 | Y=c_k) * P(X_2 = x_2 | Y=c_k) * ..."
   ]
  },
  {
   "cell_type": "markdown",
   "metadata": {
    "deletable": true,
    "editable": true
   },
   "source": [
    "后验概率最大化： 风险期望最小化 R(f) = E[L(Y, f(X))]"
   ]
  },
  {
   "cell_type": "markdown",
   "metadata": {
    "deletable": true,
    "editable": true
   },
   "source": [
    "## 参数估计\n",
    "\n",
    "方法：最大近似然估计\n",
    "\n",
    "    P(Y=c_k) = sum( I(y_i = c_k) )/N\n",
    "    P(X_n = x_n | Y=c_k) = (sum(I(y_i(n) = x_n, y_i = c_k)))/(sum(I(y_i = c_k)))  第n个特征为x_n,分类为c_k; i为数据序号\n",
    "    "
   ]
  },
  {
   "cell_type": "code",
   "execution_count": 9,
   "metadata": {
    "collapsed": true,
    "deletable": true,
    "editable": true
   },
   "outputs": [],
   "source": [
    "import numpy as np\n",
    "\n",
    "class naive_bayes:\n",
    "    \n",
    "    def __init__(self, X, Y, laplace_smoothing=1):\n",
    "        self.X = X\n",
    "        self.Y = Y\n",
    "        self.laplace_smoothing = laplace_smoothing\n",
    "        \n",
    "        X_shape = X.shape\n",
    "        \n",
    "        # prior prob\n",
    "        self.classes, counts = np.unique(Y, return_counts=True)\n",
    "        self.prior = dict()\n",
    "        self.cond_prob = dict()\n",
    "        occurrence = dict(zip(self.classes, counts))\n",
    "        for i in self.classes:\n",
    "            self.prior[i] = self.__estimate_prior(i, occurrence, X_shape[0])\n",
    "            \n",
    "            # X instances of class Y = i\n",
    "            index_class = np.where(Y == i)\n",
    "            X_subclass = X[index_class]\n",
    "            \n",
    "            # cond prob\n",
    "            self.cond_prob[i] = self.__estimate_conditional_prob(X_subclass)\n",
    "        \n",
    "    def __estimate_prior(self, C, number_occurrence, total_instance):\n",
    "        return (number_occurrence[C]+self.laplace_smoothing)/(total_instance+len(number_occurrence.keys())*self.laplace_smoothing)\n",
    "        \n",
    "    def __estimate_conditional_prob(self, X):\n",
    "        cond_prob = dict()\n",
    "        X_shape = X.shape\n",
    "        for n in range(X_shape[1]):\n",
    "            cond_prob[n] = dict()\n",
    "            # i eme features of X\n",
    "            features, counts = np.unique(X[:, n], return_counts=True)\n",
    "            occurrence = dict(zip(features, counts))\n",
    "            \n",
    "            for k in features:\n",
    "                cond_prob[n][k] = (occurrence[k]+self.laplace_smoothing)/(X_shape[0]+len(occurrence.keys())*self.laplace_smoothing) \n",
    "        \n",
    "        return cond_prob\n",
    "    \n",
    "    def inference(self, x):\n",
    "        prob = dict()\n",
    "        for i in self.classes:\n",
    "            prob[i] = self.__estimate(x, i)\n",
    "            \n",
    "        return self.__argmax(prob)\n",
    "    \n",
    "    def __estimate(self, x, c):\n",
    "        prob = self.prior[c]\n",
    "        for i in range(x.shape[0]):\n",
    "            prob *= self.cond_prob[c][i][x[i]]\n",
    "        return prob\n",
    "    \n",
    "    def __argmax(self, prob):\n",
    "        c = None\n",
    "        for i in prob.keys():\n",
    "            c_new = prob[i]\n",
    "            if c == None or c_new > c:\n",
    "                c = c_new\n",
    "                max_item = i\n",
    "                \n",
    "        return max_item, c"
   ]
  },
  {
   "cell_type": "code",
   "execution_count": 12,
   "metadata": {
    "collapsed": false,
    "deletable": true,
    "editable": true
   },
   "outputs": [
    {
     "name": "stdout",
     "output_type": "stream",
     "text": [
      "(-1, 0.066666666666666666)\n"
     ]
    }
   ],
   "source": [
    "X = np.array([[1, \"S\"], [1, \"M\"], [1, \"M\"], [1, \"S\"], [1, \"S\"], [2, \"S\"], [2, \"M\"], [2, \"M\"], [2, \"L\"], [2, \"L\"], [3, \"L\"], [3, \"M\"], [3, \"M\"], [3, \"L\"], [3, \"L\"]])\n",
    "Y = np.array([-1, -1, 1, 1, -1, -1, -1, 1, 1, 1, 1, 1, 1, 1, -1])\n",
    "\n",
    "classifier = naive_bayes(X, Y, 0)\n",
    "print (classifier.inference(np.array([2, \"S\"])))"
   ]
  },
  {
   "cell_type": "code",
   "execution_count": 13,
   "metadata": {
    "collapsed": false,
    "deletable": true,
    "editable": true
   },
   "outputs": [
    {
     "name": "stdout",
     "output_type": "stream",
     "text": [
      "(-1, 0.06100217864923746)\n"
     ]
    }
   ],
   "source": [
    "X = np.array([[1, \"S\"], [1, \"M\"], [1, \"M\"], [1, \"S\"], [1, \"S\"], [2, \"S\"], [2, \"M\"], [2, \"M\"], [2, \"L\"], [2, \"L\"], [3, \"L\"], [3, \"M\"], [3, \"M\"], [3, \"L\"], [3, \"L\"]])\n",
    "Y = np.array([-1, -1, 1, 1, -1, -1, -1, 1, 1, 1, 1, 1, 1, 1, -1])\n",
    "\n",
    "classifier = naive_bayes(X, Y)\n",
    "print (classifier.inference(np.array([2, \"S\"])))"
   ]
  },
  {
   "cell_type": "code",
   "execution_count": null,
   "metadata": {
    "collapsed": true
   },
   "outputs": [],
   "source": []
  }
 ],
 "metadata": {
  "kernelspec": {
   "display_name": "Python 3",
   "language": "python",
   "name": "python3"
  },
  "language_info": {
   "codemirror_mode": {
    "name": "ipython",
    "version": 3
   },
   "file_extension": ".py",
   "mimetype": "text/x-python",
   "name": "python",
   "nbconvert_exporter": "python",
   "pygments_lexer": "ipython3",
   "version": "3.5.0"
  }
 },
 "nbformat": 4,
 "nbformat_minor": 2
}
