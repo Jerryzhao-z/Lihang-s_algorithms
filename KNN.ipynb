{
 "cells": [
  {
   "cell_type": "markdown",
   "metadata": {},
   "source": [
    "## 3.1 K近邻算法"
   ]
  },
  {
   "cell_type": "code",
   "execution_count": 1,
   "metadata": {
    "collapsed": true
   },
   "outputs": [],
   "source": [
    "class basic_knn:\n",
    "    \n",
    "    def __init__(self, X, Y, k):\n",
    "        #check\n",
    "        X_shape = X.shape\n",
    "        Y_shape = Y.shape\n",
    "        \n",
    "        if X_shape[0] != Y_shape[0] or len(Y_shape) > 1:\n",
    "            raise Error(\"input data X and Y didn't match requirement of KNN\")\n",
    "        \n",
    "        self.X = X\n",
    "        self.Y = Y\n",
    "        self.k = k\n",
    "    \n",
    "    def predict(x):\n",
    "        raise NotImplementedError('subclasses of basic_knn must provide a predict method')"
   ]
  },
  {
   "cell_type": "markdown",
   "metadata": {},
   "source": [
    "## 3.2 K近邻模型"
   ]
  },
  {
   "cell_type": "markdown",
   "metadata": {},
   "source": [
    "KNN模型三要素： 距离度量 K值 分类决策规则"
   ]
  },
  {
   "cell_type": "code",
   "execution_count": 17,
   "metadata": {
    "collapsed": true
   },
   "outputs": [],
   "source": [
    "class knn_model(basic_knn):\n",
    "    \n",
    "    def parameters(mesure, rule):\n",
    "        # mesure function, rule function\n",
    "        self.mesure = mesure\n",
    "        self.rule = rule(self.k)"
   ]
  },
  {
   "cell_type": "code",
   "execution_count": 18,
   "metadata": {
    "collapsed": true
   },
   "outputs": [],
   "source": [
    "import numpy as np\n",
    "def lp_distance(p):\n",
    "    def distance(x1, x2):\n",
    "        difference = x1 - x2\n",
    "        sum_power = np.power(difference, p)\n",
    "        return np.power(np.sum(sum_power), 1/p) \n",
    "        \n",
    "    \n",
    "    return distance"
   ]
  },
  {
   "cell_type": "code",
   "execution_count": 19,
   "metadata": {
    "collapsed": false
   },
   "outputs": [
    {
     "name": "stdout",
     "output_type": "stream",
     "text": [
      "7.07106781187\n"
     ]
    }
   ],
   "source": [
    "euclidean = lp_distance(2)\n",
    "x1 = np.array([[1, 5, 7, 3]])\n",
    "x2 = np.array([[1, 6, 7, 10]])\n",
    "print (euclidean(x1, x2))"
   ]
  },
  {
   "cell_type": "code",
   "execution_count": 20,
   "metadata": {
    "collapsed": true
   },
   "outputs": [],
   "source": [
    "def majority_voting(k):\n",
    "    def vote(neighbors_Y):\n",
    "        counts = np.bincount(neighbors_Y)\n",
    "        return np.argmax(counts)\n",
    "    return vote"
   ]
  },
  {
   "cell_type": "markdown",
   "metadata": {},
   "source": [
    "## 3.3 KD树"
   ]
  },
  {
   "cell_type": "code",
   "execution_count": 21,
   "metadata": {
    "collapsed": true
   },
   "outputs": [],
   "source": [
    "class tree:\n",
    "    def __init__(self, data=None):\n",
    "        self.left = None\n",
    "        self.right = None\n",
    "        self.data = data"
   ]
  },
  {
   "cell_type": "code",
   "execution_count": null,
   "metadata": {
    "collapsed": true
   },
   "outputs": [],
   "source": [
    "class kdtree(tree):\n",
    "    \n",
    "    def fit(self, X, axis):\n",
    "        self.X = X\n",
    "        X_shape = X.shape\n",
    "        self.dimension = X_shape[1]\n",
    "        self.number = X_shape[0]\n",
    "        \n",
    "        lefts, rights, median = self.getMedian(X, axis=axis)\n",
    "        self.data = median\n",
    "        \n",
    "        left_tree = kdtree()\n",
    "        left_tree.fit(lefts)\n",
    "        right_tree = kdtree()\n",
    "        right_tree.fit(rights)\n",
    "        \n",
    "        self.left = left_tree\n",
    "        self.right = right_tree\n",
    "        \n",
    "    def getMedian(X, axis=0):\n",
    "        return"
   ]
  },
  {
   "cell_type": "code",
   "execution_count": null,
   "metadata": {
    "collapsed": true
   },
   "outputs": [],
   "source": []
  }
 ],
 "metadata": {
  "kernelspec": {
   "display_name": "Python 3",
   "language": "python",
   "name": "python3"
  },
  "language_info": {
   "codemirror_mode": {
    "name": "ipython",
    "version": 3
   },
   "file_extension": ".py",
   "mimetype": "text/x-python",
   "name": "python",
   "nbconvert_exporter": "python",
   "pygments_lexer": "ipython3",
   "version": "3.5.0"
  }
 },
 "nbformat": 4,
 "nbformat_minor": 2
}
